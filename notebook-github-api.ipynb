{
 "cells": [
  {
   "cell_type": "code",
   "execution_count": 2,
   "metadata": {},
   "outputs": [],
   "source": [
    "import pandas as pd\n",
    "import matplotlib.pyplot as plt"
   ]
  },
  {
   "cell_type": "code",
   "execution_count": 3,
   "metadata": {},
   "outputs": [
    {
     "data": {
      "text/html": [
       "<div>\n",
       "<style scoped>\n",
       "    .dataframe tbody tr th:only-of-type {\n",
       "        vertical-align: middle;\n",
       "    }\n",
       "\n",
       "    .dataframe tbody tr th {\n",
       "        vertical-align: top;\n",
       "    }\n",
       "\n",
       "    .dataframe thead th {\n",
       "        text-align: right;\n",
       "    }\n",
       "</style>\n",
       "<table border=\"1\" class=\"dataframe\">\n",
       "  <thead>\n",
       "    <tr style=\"text-align: right;\">\n",
       "      <th></th>\n",
       "      <th>url</th>\n",
       "      <th>repository_url</th>\n",
       "      <th>labels_url</th>\n",
       "      <th>comments_url</th>\n",
       "      <th>events_url</th>\n",
       "      <th>html_url</th>\n",
       "      <th>id</th>\n",
       "      <th>node_id</th>\n",
       "      <th>number</th>\n",
       "      <th>title</th>\n",
       "      <th>...</th>\n",
       "      <th>closed_at</th>\n",
       "      <th>author_association</th>\n",
       "      <th>active_lock_reason</th>\n",
       "      <th>body</th>\n",
       "      <th>reactions</th>\n",
       "      <th>timeline_url</th>\n",
       "      <th>performed_via_github_app</th>\n",
       "      <th>state_reason</th>\n",
       "      <th>draft</th>\n",
       "      <th>pull_request</th>\n",
       "    </tr>\n",
       "  </thead>\n",
       "  <tbody>\n",
       "    <tr>\n",
       "      <th>0</th>\n",
       "      <td>https://api.github.com/repos/rails/rails/issue...</td>\n",
       "      <td>https://api.github.com/repos/rails/rails</td>\n",
       "      <td>https://api.github.com/repos/rails/rails/issue...</td>\n",
       "      <td>https://api.github.com/repos/rails/rails/issue...</td>\n",
       "      <td>https://api.github.com/repos/rails/rails/issue...</td>\n",
       "      <td>https://github.com/rails/rails/issues/48976</td>\n",
       "      <td>1857192729</td>\n",
       "      <td>I_kwDNIULObrKDGQ</td>\n",
       "      <td>48976</td>\n",
       "      <td>Unexpected `schema.rb` change when using `db:m...</td>\n",
       "      <td>...</td>\n",
       "      <td>NaT</td>\n",
       "      <td>NONE</td>\n",
       "      <td>NaN</td>\n",
       "      <td>### Steps to reproduce\\r\\n&lt;!-- (Guidelines for...</td>\n",
       "      <td>{'url': 'https://api.github.com/repos/rails/ra...</td>\n",
       "      <td>https://api.github.com/repos/rails/rails/issue...</td>\n",
       "      <td>NaN</td>\n",
       "      <td>None</td>\n",
       "      <td>NaN</td>\n",
       "      <td>NaN</td>\n",
       "    </tr>\n",
       "    <tr>\n",
       "      <th>1</th>\n",
       "      <td>https://api.github.com/repos/rails/rails/issue...</td>\n",
       "      <td>https://api.github.com/repos/rails/rails</td>\n",
       "      <td>https://api.github.com/repos/rails/rails/issue...</td>\n",
       "      <td>https://api.github.com/repos/rails/rails/issue...</td>\n",
       "      <td>https://api.github.com/repos/rails/rails/issue...</td>\n",
       "      <td>https://github.com/rails/rails/issues/48975</td>\n",
       "      <td>1857100531</td>\n",
       "      <td>I_kwDNIULObrEa8w</td>\n",
       "      <td>48975</td>\n",
       "      <td>rails-ujs ignores submission value of form-ass...</td>\n",
       "      <td>...</td>\n",
       "      <td>NaT</td>\n",
       "      <td>NONE</td>\n",
       "      <td>NaN</td>\n",
       "      <td>### Preface\\r\\n\\r\\nBest practice when designin...</td>\n",
       "      <td>{'url': 'https://api.github.com/repos/rails/ra...</td>\n",
       "      <td>https://api.github.com/repos/rails/rails/issue...</td>\n",
       "      <td>NaN</td>\n",
       "      <td>None</td>\n",
       "      <td>NaN</td>\n",
       "      <td>NaN</td>\n",
       "    </tr>\n",
       "    <tr>\n",
       "      <th>2</th>\n",
       "      <td>https://api.github.com/repos/rails/rails/issue...</td>\n",
       "      <td>https://api.github.com/repos/rails/rails</td>\n",
       "      <td>https://api.github.com/repos/rails/rails/issue...</td>\n",
       "      <td>https://api.github.com/repos/rails/rails/issue...</td>\n",
       "      <td>https://api.github.com/repos/rails/rails/issue...</td>\n",
       "      <td>https://github.com/rails/rails/pull/48974</td>\n",
       "      <td>1857084305</td>\n",
       "      <td>PR_kwDNIULOWETIyQ</td>\n",
       "      <td>48974</td>\n",
       "      <td>Fix 6.1 change_table setting datetime precision</td>\n",
       "      <td>...</td>\n",
       "      <td>NaT</td>\n",
       "      <td>MEMBER</td>\n",
       "      <td>NaN</td>\n",
       "      <td>### Motivation / Background\\r\\n\\r\\nWhile worki...</td>\n",
       "      <td>{'url': 'https://api.github.com/repos/rails/ra...</td>\n",
       "      <td>https://api.github.com/repos/rails/rails/issue...</td>\n",
       "      <td>NaN</td>\n",
       "      <td>None</td>\n",
       "      <td>0.0</td>\n",
       "      <td>{'url': 'https://api.github.com/repos/rails/ra...</td>\n",
       "    </tr>\n",
       "    <tr>\n",
       "      <th>3</th>\n",
       "      <td>https://api.github.com/repos/rails/rails/issue...</td>\n",
       "      <td>https://api.github.com/repos/rails/rails</td>\n",
       "      <td>https://api.github.com/repos/rails/rails/issue...</td>\n",
       "      <td>https://api.github.com/repos/rails/rails/issue...</td>\n",
       "      <td>https://api.github.com/repos/rails/rails/issue...</td>\n",
       "      <td>https://github.com/rails/rails/issues/48973</td>\n",
       "      <td>1857065077</td>\n",
       "      <td>I_kwDNIULObrCQdQ</td>\n",
       "      <td>48973</td>\n",
       "      <td>Webdrivers::VersionError: Unable to find lates...</td>\n",
       "      <td>...</td>\n",
       "      <td>NaT</td>\n",
       "      <td>CONTRIBUTOR</td>\n",
       "      <td>NaN</td>\n",
       "      <td>### Steps to reproduce\\r\\n\\r\\n• Create a brand...</td>\n",
       "      <td>{'url': 'https://api.github.com/repos/rails/ra...</td>\n",
       "      <td>https://api.github.com/repos/rails/rails/issue...</td>\n",
       "      <td>NaN</td>\n",
       "      <td>None</td>\n",
       "      <td>NaN</td>\n",
       "      <td>NaN</td>\n",
       "    </tr>\n",
       "    <tr>\n",
       "      <th>4</th>\n",
       "      <td>https://api.github.com/repos/rails/rails/issue...</td>\n",
       "      <td>https://api.github.com/repos/rails/rails</td>\n",
       "      <td>https://api.github.com/repos/rails/rails/issue...</td>\n",
       "      <td>https://api.github.com/repos/rails/rails/issue...</td>\n",
       "      <td>https://api.github.com/repos/rails/rails/issue...</td>\n",
       "      <td>https://github.com/rails/rails/pull/48972</td>\n",
       "      <td>1857032357</td>\n",
       "      <td>PR_kwDNIULOWEQTQQ</td>\n",
       "      <td>48972</td>\n",
       "      <td>Ensure target is an attribute for `alias_attri...</td>\n",
       "      <td>...</td>\n",
       "      <td>NaT</td>\n",
       "      <td>CONTRIBUTOR</td>\n",
       "      <td>NaN</td>\n",
       "      <td>### Motivation / Background\\r\\n\\r\\nWe ran into...</td>\n",
       "      <td>{'url': 'https://api.github.com/repos/rails/ra...</td>\n",
       "      <td>https://api.github.com/repos/rails/rails/issue...</td>\n",
       "      <td>NaN</td>\n",
       "      <td>None</td>\n",
       "      <td>0.0</td>\n",
       "      <td>{'url': 'https://api.github.com/repos/rails/ra...</td>\n",
       "    </tr>\n",
       "  </tbody>\n",
       "</table>\n",
       "<p>5 rows × 30 columns</p>\n",
       "</div>"
      ],
      "text/plain": [
       "                                                 url  \\\n",
       "0  https://api.github.com/repos/rails/rails/issue...   \n",
       "1  https://api.github.com/repos/rails/rails/issue...   \n",
       "2  https://api.github.com/repos/rails/rails/issue...   \n",
       "3  https://api.github.com/repos/rails/rails/issue...   \n",
       "4  https://api.github.com/repos/rails/rails/issue...   \n",
       "\n",
       "                             repository_url  \\\n",
       "0  https://api.github.com/repos/rails/rails   \n",
       "1  https://api.github.com/repos/rails/rails   \n",
       "2  https://api.github.com/repos/rails/rails   \n",
       "3  https://api.github.com/repos/rails/rails   \n",
       "4  https://api.github.com/repos/rails/rails   \n",
       "\n",
       "                                          labels_url  \\\n",
       "0  https://api.github.com/repos/rails/rails/issue...   \n",
       "1  https://api.github.com/repos/rails/rails/issue...   \n",
       "2  https://api.github.com/repos/rails/rails/issue...   \n",
       "3  https://api.github.com/repos/rails/rails/issue...   \n",
       "4  https://api.github.com/repos/rails/rails/issue...   \n",
       "\n",
       "                                        comments_url  \\\n",
       "0  https://api.github.com/repos/rails/rails/issue...   \n",
       "1  https://api.github.com/repos/rails/rails/issue...   \n",
       "2  https://api.github.com/repos/rails/rails/issue...   \n",
       "3  https://api.github.com/repos/rails/rails/issue...   \n",
       "4  https://api.github.com/repos/rails/rails/issue...   \n",
       "\n",
       "                                          events_url  \\\n",
       "0  https://api.github.com/repos/rails/rails/issue...   \n",
       "1  https://api.github.com/repos/rails/rails/issue...   \n",
       "2  https://api.github.com/repos/rails/rails/issue...   \n",
       "3  https://api.github.com/repos/rails/rails/issue...   \n",
       "4  https://api.github.com/repos/rails/rails/issue...   \n",
       "\n",
       "                                      html_url          id            node_id  \\\n",
       "0  https://github.com/rails/rails/issues/48976  1857192729   I_kwDNIULObrKDGQ   \n",
       "1  https://github.com/rails/rails/issues/48975  1857100531   I_kwDNIULObrEa8w   \n",
       "2    https://github.com/rails/rails/pull/48974  1857084305  PR_kwDNIULOWETIyQ   \n",
       "3  https://github.com/rails/rails/issues/48973  1857065077   I_kwDNIULObrCQdQ   \n",
       "4    https://github.com/rails/rails/pull/48972  1857032357  PR_kwDNIULOWEQTQQ   \n",
       "\n",
       "   number                                              title  ... closed_at  \\\n",
       "0   48976  Unexpected `schema.rb` change when using `db:m...  ...       NaT   \n",
       "1   48975  rails-ujs ignores submission value of form-ass...  ...       NaT   \n",
       "2   48974    Fix 6.1 change_table setting datetime precision  ...       NaT   \n",
       "3   48973  Webdrivers::VersionError: Unable to find lates...  ...       NaT   \n",
       "4   48972  Ensure target is an attribute for `alias_attri...  ...       NaT   \n",
       "\n",
       "  author_association active_lock_reason  \\\n",
       "0               NONE                NaN   \n",
       "1               NONE                NaN   \n",
       "2             MEMBER                NaN   \n",
       "3        CONTRIBUTOR                NaN   \n",
       "4        CONTRIBUTOR                NaN   \n",
       "\n",
       "                                                body  \\\n",
       "0  ### Steps to reproduce\\r\\n<!-- (Guidelines for...   \n",
       "1  ### Preface\\r\\n\\r\\nBest practice when designin...   \n",
       "2  ### Motivation / Background\\r\\n\\r\\nWhile worki...   \n",
       "3  ### Steps to reproduce\\r\\n\\r\\n• Create a brand...   \n",
       "4  ### Motivation / Background\\r\\n\\r\\nWe ran into...   \n",
       "\n",
       "                                           reactions  \\\n",
       "0  {'url': 'https://api.github.com/repos/rails/ra...   \n",
       "1  {'url': 'https://api.github.com/repos/rails/ra...   \n",
       "2  {'url': 'https://api.github.com/repos/rails/ra...   \n",
       "3  {'url': 'https://api.github.com/repos/rails/ra...   \n",
       "4  {'url': 'https://api.github.com/repos/rails/ra...   \n",
       "\n",
       "                                        timeline_url performed_via_github_app  \\\n",
       "0  https://api.github.com/repos/rails/rails/issue...                      NaN   \n",
       "1  https://api.github.com/repos/rails/rails/issue...                      NaN   \n",
       "2  https://api.github.com/repos/rails/rails/issue...                      NaN   \n",
       "3  https://api.github.com/repos/rails/rails/issue...                      NaN   \n",
       "4  https://api.github.com/repos/rails/rails/issue...                      NaN   \n",
       "\n",
       "   state_reason draft                                       pull_request  \n",
       "0          None   NaN                                                NaN  \n",
       "1          None   NaN                                                NaN  \n",
       "2          None   0.0  {'url': 'https://api.github.com/repos/rails/ra...  \n",
       "3          None   NaN                                                NaN  \n",
       "4          None   0.0  {'url': 'https://api.github.com/repos/rails/ra...  \n",
       "\n",
       "[5 rows x 30 columns]"
      ]
     },
     "execution_count": 3,
     "metadata": {},
     "output_type": "execute_result"
    }
   ],
   "source": [
    "df_issues = pd.read_json('./rails_issues.json')\n",
    "df_issues.head()"
   ]
  },
  {
   "cell_type": "code",
   "execution_count": 4,
   "metadata": {},
   "outputs": [
    {
     "data": {
      "text/plain": [
       "0     2023-08-18 19:28:06+00:00\n",
       "1     2023-08-18 18:08:52+00:00\n",
       "2     2023-08-18 17:54:28+00:00\n",
       "3     2023-08-18 17:38:49+00:00\n",
       "4     2023-08-18 17:09:56+00:00\n",
       "                 ...           \n",
       "495   2023-06-15 00:48:31+00:00\n",
       "496   2023-06-14 21:13:36+00:00\n",
       "497   2023-06-14 20:39:15+00:00\n",
       "498   2023-06-14 19:50:39+00:00\n",
       "499   2023-06-14 18:22:57+00:00\n",
       "Name: created_at, Length: 500, dtype: datetime64[ns, UTC]"
      ]
     },
     "execution_count": 4,
     "metadata": {},
     "output_type": "execute_result"
    }
   ],
   "source": [
    "df_issues['created_at']"
   ]
  },
  {
   "cell_type": "code",
   "execution_count": 5,
   "metadata": {},
   "outputs": [
    {
     "data": {
      "text/plain": [
       "0     2023-08-18 19:28:06+00:00\n",
       "1     2023-08-18 18:08:52+00:00\n",
       "2     2023-08-18 17:54:28+00:00\n",
       "3     2023-08-18 17:38:49+00:00\n",
       "4     2023-08-18 17:09:56+00:00\n",
       "                 ...           \n",
       "495   2023-06-15 00:48:31+00:00\n",
       "496   2023-06-14 21:13:36+00:00\n",
       "497   2023-06-14 20:39:15+00:00\n",
       "498   2023-06-14 19:50:39+00:00\n",
       "499   2023-06-14 18:22:57+00:00\n",
       "Name: created_at, Length: 500, dtype: datetime64[ns, UTC]"
      ]
     },
     "execution_count": 5,
     "metadata": {},
     "output_type": "execute_result"
    }
   ],
   "source": [
    "# Convert the 'created_at' column to datetime type\n",
    "df_issues['created_at'] = pd.to_datetime(df_issues['created_at'])\n",
    "df_issues['created_at'] \n"
   ]
  },
  {
   "cell_type": "markdown",
   "metadata": {},
   "source": [
    "1.\tHow do the number of issues evolve over time?"
   ]
  },
  {
   "cell_type": "code",
   "execution_count": 6,
   "metadata": {},
   "outputs": [],
   "source": [
    "# Sort the DataFrame by 'created_at'\n",
    "df_issues_sorted = df_issues.sort_values('created_at')"
   ]
  },
  {
   "cell_type": "code",
   "execution_count": 7,
   "metadata": {},
   "outputs": [
    {
     "data": {
      "text/plain": [
       "499      1\n",
       "498      2\n",
       "497      3\n",
       "496      4\n",
       "495      5\n",
       "      ... \n",
       "4      496\n",
       "3      497\n",
       "2      498\n",
       "1      499\n",
       "0      500\n",
       "Name: cumulative_count, Length: 500, dtype: int64"
      ]
     },
     "execution_count": 7,
     "metadata": {},
     "output_type": "execute_result"
    }
   ],
   "source": [
    "# Create a cumulative count of issues over time\n",
    "df_issues_sorted['cumulative_count'] = range(1, len(df_issues_sorted) + 1)\n",
    "df_issues_sorted['cumulative_count']"
   ]
  },
  {
   "cell_type": "code",
   "execution_count": 8,
   "metadata": {},
   "outputs": [
    {
     "data": {
      "image/png": "[encoded data removed]",
      "text/plain": [
       "<Figure size 1000x600 with 1 Axes>"
      ]
     },
     "metadata": {},
     "output_type": "display_data"
    }
   ],
   "source": [
    "# Plot\n",
    "plt.figure(figsize=(10, 6))\n",
    "plt.plot(df_issues_sorted['created_at'], df_issues_sorted['cumulative_count'])\n",
    "plt.xlabel('Date')\n",
    "plt.ylabel('Cumulative Count of Issues')\n",
    "plt.title('Evolution of Issues Over Time')\n",
    "plt.tight_layout()\n",
    "plt.show()"
   ]
  },
  {
   "cell_type": "code",
   "execution_count": 9,
   "metadata": {},
   "outputs": [],
   "source": [
    "# Convert the 'created_at' column to datetime type \n",
    "df_issues['created_at'] = pd.to_datetime(df_issues['created_at'])"
   ]
  },
  {
   "cell_type": "code",
   "execution_count": 10,
   "metadata": {},
   "outputs": [],
   "source": [
    "weekly_issue_count = df_issues.resample('W', on='created_at').size()"
   ]
  },
  {
   "cell_type": "code",
   "execution_count": 11,
   "metadata": {},
   "outputs": [
    {
     "data": {
      "image/png": "[encoded data removed]",
      "text/plain": [
       "<Figure size 1000x600 with 1 Axes>"
      ]
     },
     "metadata": {},
     "output_type": "display_data"
    }
   ],
   "source": [
    "# Plot\n",
    "plt.figure(figsize=(10, 6))\n",
    "weekly_issue_count.plot()\n",
    "plt.xlabel('Date')\n",
    "plt.ylabel('Number of Issues')\n",
    "plt.title('Number of Issues Reported Weekly')\n",
    "plt.tight_layout()\n",
    "plt.grid(True)\n",
    "plt.show()"
   ]
  },
  {
   "cell_type": "code",
   "execution_count": 12,
   "metadata": {},
   "outputs": [],
   "source": [
    "df_issues['reporter'] = df_issues['user'].apply(lambda x: x['login'] if isinstance(x, dict) and 'login' in x else None)"
   ]
  },
  {
   "cell_type": "code",
   "execution_count": 13,
   "metadata": {},
   "outputs": [],
   "source": [
    "user_issue_count = df_issues.groupby('reporter').size().sort_values(ascending=False)\n"
   ]
  },
  {
   "cell_type": "code",
   "execution_count": 14,
   "metadata": {},
   "outputs": [
    {
     "name": "stdout",
     "output_type": "stream",
     "text": [
      "reporter\n",
      "skipkayhil                31\n",
      "zzak                      29\n",
      "p8                        16\n",
      "ghiculescu                16\n",
      "casperisfine              16\n",
      "akhilgkrishnan            14\n",
      "eileencodes               13\n",
      "adrianna-chang-shopify    11\n",
      "yahonda                   10\n",
      "nvasilevski               10\n",
      "dtype: int64\n"
     ]
    }
   ],
   "source": [
    "print(user_issue_count.head(10))"
   ]
  },
  {
   "cell_type": "code",
   "execution_count": 19,
   "metadata": {},
   "outputs": [
    {
     "data": {
      "image/png": "[encoded data removed]",
      "text/plain": [
       "<Figure size 1200x600 with 1 Axes>"
      ]
     },
     "metadata": {},
     "output_type": "display_data"
    }
   ],
   "source": [
    "# Visualize the top 10 reporters\n",
    "plt.figure(figsize=(12, 6))\n",
    "user_issue_count.head(10).plot(kind='bar', color='skyblue')\n",
    "plt.xlabel('User')\n",
    "plt.ylabel('Number of Issues Reported')\n",
    "plt.title('Top 10 Users by Number of Issues Reported')\n",
    "plt.tight_layout()\n",
    "plt.show()"
   ]
  },
  {
   "cell_type": "code",
   "execution_count": 16,
   "metadata": {},
   "outputs": [],
   "source": [
    "# Extract labels from the nested 'labels' list and 'name' field inside each label dictionary\n",
    "labels_list = df_issues['labels'].explode().apply(lambda x: x['name'] if isinstance(x, dict) and 'name' in x else None).dropna()"
   ]
  },
  {
   "cell_type": "code",
   "execution_count": 17,
   "metadata": {},
   "outputs": [],
   "source": [
    "# Count the occurrences of each label\n",
    "label_counts = labels_list.value_counts()"
   ]
  },
  {
   "cell_type": "code",
   "execution_count": 18,
   "metadata": {},
   "outputs": [
    {
     "name": "stdout",
     "output_type": "stream",
     "text": [
      "The most popular label is: activerecord with 194 occurrences.\n"
     ]
    }
   ],
   "source": [
    "# Display the most popular label\n",
    "most_popular_label = label_counts.idxmax()\n",
    "print(f\"The most popular label is: {most_popular_label} with {label_counts[most_popular_label]} occurrences.\")"
   ]
  },
  {
   "cell_type": "code",
   "execution_count": 19,
   "metadata": {},
   "outputs": [
    {
     "data": {
      "image/png": "[encoded data removed]",
      "text/plain": [
       "<Figure size 1200x600 with 1 Axes>"
      ]
     },
     "metadata": {},
     "output_type": "display_data"
    }
   ],
   "source": [
    "# Optional: To visualize the top 10 labels\n",
    "plt.figure(figsize=(12, 6))\n",
    "label_counts.head(10).plot(kind='bar', color='lightgreen')\n",
    "plt.xlabel('Label')\n",
    "plt.ylabel('Number of Occurrences')\n",
    "plt.title('Top 10 Labels by Number of Occurrences')\n",
    "plt.tight_layout()\n",
    "plt.show()"
   ]
  },
  {
   "cell_type": "code",
   "execution_count": 20,
   "metadata": {},
   "outputs": [
    {
     "name": "stderr",
     "output_type": "stream",
     "text": [
      "C:\\Users\\lenovo\\AppData\\Local\\Packages\\PythonSoftwareFoundation.Python.3.10_qbz5n2kfra8p0\\LocalCache\\local-packages\\Python310\\site-packages\\tqdm\\auto.py:21: TqdmWarning: IProgress not found. Please update jupyter and ipywidgets. See https://ipywidgets.readthedocs.io/en/stable/user_install.html\n",
      "  from .autonotebook import tqdm as notebook_tqdm\n"
     ]
    }
   ],
   "source": [
    "from transformers import DistilBertTokenizer, DistilBertForSequenceClassification, Trainer, TrainingArguments\n",
    "import torch"
   ]
  },
  {
   "cell_type": "code",
   "execution_count": 21,
   "metadata": {},
   "outputs": [],
   "source": [
    "# 1. Data Preparation\n",
    "\n",
    "# Extract the first label for each issue\n",
    "df_issues['single_label'] = df_issues['labels'].apply(lambda x: x[0]['name'] if x else None)\n",
    "\n",
    "# Filter out issues that don't have any labels or descriptions (to ensure alignment between descriptions and labels)\n",
    "filtered_issues = df_issues.dropna(subset=['single_label', 'body'])\n",
    "\n",
    "descriptions = filtered_issues['body'].tolist()\n",
    "# Extract all unique labels\n",
    "unique_labels = filtered_issues['single_label'].unique()\n",
    "\n",
    "# Create a mapping from label to integer\n",
    "label_mapping = {label: idx for idx, label in enumerate(unique_labels)}\n",
    "labels = [label_mapping[label] for label in filtered_issues['single_label'].tolist()]\n",
    "\n",
    "# Split data into training and validation sets (for simplicity, doing a 80-20 split here)\n",
    "train_texts, train_labels = descriptions[:int(0.8*len(descriptions))], labels[:int(0.8*len(labels))]\n",
    "val_texts, val_labels = descriptions[int(0.8*len(descriptions)):], labels[int(0.8*len(labels)):]\n",
    "\n"
   ]
  },
  {
   "cell_type": "code",
   "execution_count": 22,
   "metadata": {},
   "outputs": [],
   "source": [
    "# 2. Model Selection & 3. Tokenization\n",
    "tokenizer = DistilBertTokenizer.from_pretrained('distilbert-base-uncased')\n",
    "train_encodings = tokenizer(train_texts, truncation=True, padding=True)\n",
    "val_encodings = tokenizer(val_texts, truncation=True, padding=True)"
   ]
  },
  {
   "cell_type": "code",
   "execution_count": 20,
   "metadata": {},
   "outputs": [
    {
     "ename": "NameError",
     "evalue": "name 'torch' is not defined",
     "output_type": "error",
     "traceback": [
      "\u001b[1;31m---------------------------------------------------------------------------\u001b[0m",
      "\u001b[1;31mNameError\u001b[0m                                 Traceback (most recent call last)",
      "Cell \u001b[1;32mIn[20], line 2\u001b[0m\n\u001b[0;32m      1\u001b[0m \u001b[39m# Create a Dataset object\u001b[39;00m\n\u001b[1;32m----> 2\u001b[0m \u001b[39mclass\u001b[39;00m \u001b[39mGitHubDataset\u001b[39;00m(torch\u001b[39m.\u001b[39mutils\u001b[39m.\u001b[39mdata\u001b[39m.\u001b[39mDataset):\n\u001b[0;32m      3\u001b[0m     \u001b[39mdef\u001b[39;00m \u001b[39m__init__\u001b[39m(\u001b[39mself\u001b[39m, encodings, labels):\n\u001b[0;32m      4\u001b[0m         \u001b[39mself\u001b[39m\u001b[39m.\u001b[39mencodings \u001b[39m=\u001b[39m encodings\n",
      "\u001b[1;31mNameError\u001b[0m: name 'torch' is not defined"
     ]
    }
   ],
   "source": [
    "# Create a Dataset object\n",
    "class GitHubDataset(torch.utils.data.Dataset):\n",
    "    def __init__(self, encodings, labels):\n",
    "        self.encodings = encodings\n",
    "        self.labels = labels\n",
    "\n",
    "    def __getitem__(self, idx):\n",
    "        item = {key: torch.tensor(val[idx]) for key, val in self.encodings.items()}\n",
    "        item['labels'] = torch.tensor(self.labels[idx])\n",
    "        return item\n",
    "\n",
    "    def __len__(self):\n",
    "        return len(self.labels)\n",
    "\n",
    "train_dataset = GitHubDataset(train_encodings, train_labels)\n",
    "val_dataset = GitHubDataset(val_encodings, val_labels)"
   ]
  },
  {
   "cell_type": "code",
   "execution_count": 24,
   "metadata": {},
   "outputs": [
    {
     "name": "stderr",
     "output_type": "stream",
     "text": [
      "Some weights of DistilBertForSequenceClassification were not initialized from the model checkpoint at distilbert-base-uncased and are newly initialized: ['pre_classifier.weight', 'classifier.weight', 'pre_classifier.bias', 'classifier.bias']\n",
      "You should probably TRAIN this model on a down-stream task to be able to use it for predictions and inference.\n"
     ]
    }
   ],
   "source": [
    "# 4. Model Training\n",
    "model = DistilBertForSequenceClassification.from_pretrained('distilbert-base-uncased', num_labels=len(label_mapping))\n",
    "training_args = TrainingArguments(\n",
    "    per_device_train_batch_size=8,\n",
    "    per_device_eval_batch_size=8,\n",
    "    logging_dir='./logs',\n",
    "    evaluation_strategy=\"epoch\",\n",
    "    logging_steps=10,\n",
    "    save_strategy=\"epoch\",\n",
    "    output_dir=\"./model\",\n",
    "    do_train=True,\n",
    "    do_eval=True,\n",
    "    num_train_epochs=3,\n",
    "    push_to_hub=False,\n",
    ")\n"
   ]
  },
  {
   "cell_type": "code",
   "execution_count": 25,
   "metadata": {},
   "outputs": [],
   "source": [
    "trainer = Trainer(\n",
    "    model=model,\n",
    "    args=training_args,\n",
    "    train_dataset=train_dataset,\n",
    "    eval_dataset=val_dataset,\n",
    "    tokenizer=tokenizer,\n",
    ")"
   ]
  },
  {
   "cell_type": "code",
   "execution_count": 26,
   "metadata": {},
   "outputs": [
    {
     "name": "stderr",
     "output_type": "stream",
     "text": [
      "C:\\Users\\lenovo\\AppData\\Local\\Packages\\PythonSoftwareFoundation.Python.3.10_qbz5n2kfra8p0\\LocalCache\\local-packages\\Python310\\site-packages\\transformers\\optimization.py:411: FutureWarning: This implementation of AdamW is deprecated and will be removed in a future version. Use the PyTorch implementation torch.optim.AdamW instead, or set `no_deprecation_warning=True` to disable this warning\n",
      "  warnings.warn(\n",
      "  8%|▊         | 10/132 [09:54<1:58:34, 58.32s/it]"
     ]
    },
    {
     "name": "stdout",
     "output_type": "stream",
     "text": [
      "{'loss': 2.5706, 'learning_rate': 4.621212121212121e-05, 'epoch': 0.23}\n"
     ]
    },
    {
     "name": "stderr",
     "output_type": "stream",
     "text": [
      " 15%|█▌        | 20/132 [20:14<1:50:11, 59.04s/it]"
     ]
    },
    {
     "name": "stdout",
     "output_type": "stream",
     "text": [
      "{'loss': 2.1365, 'learning_rate': 4.242424242424243e-05, 'epoch': 0.45}\n"
     ]
    },
    {
     "name": "stderr",
     "output_type": "stream",
     "text": [
      " 23%|██▎       | 30/132 [30:34<1:48:26, 63.79s/it]"
     ]
    },
    {
     "name": "stdout",
     "output_type": "stream",
     "text": [
      "{'loss': 2.1109, 'learning_rate': 3.8636363636363636e-05, 'epoch': 0.68}\n"
     ]
    },
    {
     "name": "stderr",
     "output_type": "stream",
     "text": [
      " 30%|███       | 40/132 [41:11<1:39:03, 64.60s/it]"
     ]
    },
    {
     "name": "stdout",
     "output_type": "stream",
     "text": [
      "{'loss': 2.0453, 'learning_rate': 3.484848484848485e-05, 'epoch': 0.91}\n"
     ]
    },
    {
     "name": "stderr",
     "output_type": "stream",
     "text": [
      "                                                  \n",
      " 33%|███▎      | 44/132 [47:55<1:18:45, 53.70s/it]"
     ]
    },
    {
     "name": "stdout",
     "output_type": "stream",
     "text": [
      "{'eval_loss': 1.9995616674423218, 'eval_runtime': 189.3298, 'eval_samples_per_second': 0.465, 'eval_steps_per_second': 0.058, 'epoch': 1.0}\n"
     ]
    },
    {
     "name": "stderr",
     "output_type": "stream",
     "text": [
      " 38%|███▊      | 50/132 [53:55<1:32:58, 68.03s/it] "
     ]
    },
    {
     "name": "stdout",
     "output_type": "stream",
     "text": [
      "{'loss': 2.1187, 'learning_rate': 3.106060606060606e-05, 'epoch': 1.14}\n"
     ]
    },
    {
     "name": "stderr",
     "output_type": "stream",
     "text": [
      " 45%|████▌     | 60/132 [1:18:10<4:50:54, 242.42s/it]"
     ]
    },
    {
     "name": "stdout",
     "output_type": "stream",
     "text": [
      "{'loss': 2.0606, 'learning_rate': 2.7272727272727273e-05, 'epoch': 1.36}\n"
     ]
    },
    {
     "name": "stderr",
     "output_type": "stream",
     "text": [
      " 53%|█████▎    | 70/132 [1:28:44<1:06:23, 64.25s/it] "
     ]
    },
    {
     "name": "stdout",
     "output_type": "stream",
     "text": [
      "{'loss': 1.9854, 'learning_rate': 2.3484848484848487e-05, 'epoch': 1.59}\n"
     ]
    },
    {
     "name": "stderr",
     "output_type": "stream",
     "text": [
      " 61%|██████    | 80/132 [1:39:01<54:41, 63.10s/it]  "
     ]
    },
    {
     "name": "stdout",
     "output_type": "stream",
     "text": [
      "{'loss': 1.8021, 'learning_rate': 1.9696969696969697e-05, 'epoch': 1.82}\n"
     ]
    },
    {
     "name": "stderr",
     "output_type": "stream",
     "text": [
      "                                                  \n",
      " 67%|██████▋   | 88/132 [1:51:15<43:05, 58.77s/it]"
     ]
    },
    {
     "name": "stdout",
     "output_type": "stream",
     "text": [
      "{'eval_loss': 1.9568854570388794, 'eval_runtime': 222.2552, 'eval_samples_per_second': 0.396, 'eval_steps_per_second': 0.049, 'epoch': 2.0}\n"
     ]
    },
    {
     "name": "stderr",
     "output_type": "stream",
     "text": [
      " 68%|██████▊   | 90/132 [1:53:45<1:19:00, 112.86s/it]"
     ]
    },
    {
     "name": "stdout",
     "output_type": "stream",
     "text": [
      "{'loss': 1.9758, 'learning_rate': 1.590909090909091e-05, 'epoch': 2.05}\n"
     ]
    },
    {
     "name": "stderr",
     "output_type": "stream",
     "text": [
      " 76%|███████▌  | 100/132 [2:04:49<36:01, 67.53s/it]  "
     ]
    },
    {
     "name": "stdout",
     "output_type": "stream",
     "text": [
      "{'loss': 1.7291, 'learning_rate': 1.2121212121212122e-05, 'epoch': 2.27}\n"
     ]
    },
    {
     "name": "stderr",
     "output_type": "stream",
     "text": [
      " 83%|████████▎ | 110/132 [2:16:11<25:29, 69.53s/it]"
     ]
    },
    {
     "name": "stdout",
     "output_type": "stream",
     "text": [
      "{'loss': 1.7552, 'learning_rate': 8.333333333333334e-06, 'epoch': 2.5}\n"
     ]
    },
    {
     "name": "stderr",
     "output_type": "stream",
     "text": [
      " 91%|█████████ | 120/132 [2:27:15<13:16, 66.34s/it]"
     ]
    },
    {
     "name": "stdout",
     "output_type": "stream",
     "text": [
      "{'loss': 1.6716, 'learning_rate': 4.5454545454545455e-06, 'epoch': 2.73}\n"
     ]
    },
    {
     "name": "stderr",
     "output_type": "stream",
     "text": [
      " 98%|█████████▊| 130/132 [2:38:33<02:14, 67.19s/it]"
     ]
    },
    {
     "name": "stdout",
     "output_type": "stream",
     "text": [
      "{'loss': 1.7769, 'learning_rate': 7.575757575757576e-07, 'epoch': 2.95}\n"
     ]
    },
    {
     "name": "stderr",
     "output_type": "stream",
     "text": [
      "                                                   \n",
      "100%|██████████| 132/132 [2:44:07<00:00, 59.66s/it]"
     ]
    },
    {
     "name": "stdout",
     "output_type": "stream",
     "text": [
      "{'eval_loss': 1.8101749420166016, 'eval_runtime': 223.5759, 'eval_samples_per_second': 0.394, 'eval_steps_per_second': 0.049, 'epoch': 3.0}\n"
     ]
    },
    {
     "name": "stderr",
     "output_type": "stream",
     "text": [
      "100%|██████████| 132/132 [2:44:09<00:00, 74.62s/it]"
     ]
    },
    {
     "name": "stdout",
     "output_type": "stream",
     "text": [
      "{'train_runtime': 9849.7662, 'train_samples_per_second': 0.106, 'train_steps_per_second': 0.013, 'train_loss': 1.9746108235734883, 'epoch': 3.0}\n"
     ]
    },
    {
     "name": "stderr",
     "output_type": "stream",
     "text": [
      "\n"
     ]
    },
    {
     "data": {
      "text/plain": [
       "TrainOutput(global_step=132, training_loss=1.9746108235734883, metrics={'train_runtime': 9849.7662, 'train_samples_per_second': 0.106, 'train_steps_per_second': 0.013, 'train_loss': 1.9746108235734883, 'epoch': 3.0})"
      ]
     },
     "execution_count": 26,
     "metadata": {},
     "output_type": "execute_result"
    }
   ],
   "source": [
    "trainer.train()"
   ]
  },
  {
   "cell_type": "code",
   "execution_count": 27,
   "metadata": {},
   "outputs": [
    {
     "name": "stderr",
     "output_type": "stream",
     "text": [
      "100%|██████████| 11/11 [03:21<00:00, 18.34s/it]"
     ]
    },
    {
     "name": "stdout",
     "output_type": "stream",
     "text": [
      "{'eval_loss': 1.8101749420166016, 'eval_runtime': 219.7375, 'eval_samples_per_second': 0.4, 'eval_steps_per_second': 0.05, 'epoch': 3.0}\n"
     ]
    },
    {
     "name": "stderr",
     "output_type": "stream",
     "text": [
      "\n"
     ]
    }
   ],
   "source": [
    "# 5. Evaluation\n",
    "results = trainer.evaluate()\n",
    "\n",
    "print(results)"
   ]
  },
  {
   "cell_type": "code",
   "execution_count": 29,
   "metadata": {},
   "outputs": [],
   "source": [
    "from sklearn.metrics import accuracy_score, f1_score"
   ]
  },
  {
   "cell_type": "code",
   "execution_count": 31,
   "metadata": {},
   "outputs": [],
   "source": [
    "model = DistilBertForSequenceClassification.from_pretrained(\"./model/checkpoint-132/\")\n"
   ]
  },
  {
   "cell_type": "code",
   "execution_count": 32,
   "metadata": {},
   "outputs": [],
   "source": [
    "training_args = TrainingArguments(\n",
    "    per_device_eval_batch_size=8,\n",
    "    logging_dir='./logs',\n",
    "    evaluation_strategy=\"epoch\",\n",
    "    output_dir=\"./model\",\n",
    "    do_train=False,\n",
    "    do_eval=True,\n",
    "    push_to_hub=False,\n",
    ")\n",
    "\n",
    "trainer = Trainer(\n",
    "    model=model,\n",
    "    args=training_args,\n",
    "    eval_dataset=val_dataset,\n",
    "    tokenizer=tokenizer,\n",
    ")\n"
   ]
  },
  {
   "cell_type": "code",
   "execution_count": 33,
   "metadata": {},
   "outputs": [
    {
     "name": "stderr",
     "output_type": "stream",
     "text": [
      "100%|██████████| 11/11 [02:58<00:00, 16.22s/it]"
     ]
    },
    {
     "name": "stdout",
     "output_type": "stream",
     "text": [
      "{'eval_loss': 1.8101749420166016, 'eval_runtime': 192.0426, 'eval_samples_per_second': 0.458, 'eval_steps_per_second': 0.057}\n"
     ]
    },
    {
     "name": "stderr",
     "output_type": "stream",
     "text": [
      "\n"
     ]
    }
   ],
   "source": [
    "results = trainer.evaluate()\n",
    "print(results)"
   ]
  },
  {
   "cell_type": "code",
   "execution_count": 34,
   "metadata": {},
   "outputs": [],
   "source": [
    "def compute_metrics(eval_pred):\n",
    "    predictions, labels = eval_pred\n",
    "    predictions = predictions.argmax(axis=-1)\n",
    "    accuracy = accuracy_score(labels, predictions)\n",
    "    f1 = f1_score(labels, predictions, average='weighted')\n",
    "    return {'accuracy': accuracy, 'f1': f1}\n",
    "\n",
    "trainer = Trainer(\n",
    "    model=model,\n",
    "    args=training_args,\n",
    "    train_dataset=train_dataset,\n",
    "    eval_dataset=val_dataset,\n",
    "    tokenizer=tokenizer,\n",
    "    compute_metrics=compute_metrics,\n",
    ")\n"
   ]
  },
  {
   "cell_type": "code",
   "execution_count": 35,
   "metadata": {},
   "outputs": [
    {
     "name": "stderr",
     "output_type": "stream",
     "text": [
      "100%|██████████| 11/11 [02:44<00:00, 14.98s/it]"
     ]
    },
    {
     "name": "stdout",
     "output_type": "stream",
     "text": [
      "{'eval_loss': 1.8101749420166016, 'eval_accuracy': 0.4772727272727273, 'eval_f1': 0.34655248133509003, 'eval_runtime': 180.6292, 'eval_samples_per_second': 0.487, 'eval_steps_per_second': 0.061}\n"
     ]
    },
    {
     "name": "stderr",
     "output_type": "stream",
     "text": [
      "\n"
     ]
    }
   ],
   "source": [
    "results = trainer.evaluate()\n",
    "print(results)"
   ]
  },
  {
   "cell_type": "code",
   "execution_count": 46,
   "metadata": {},
   "outputs": [],
   "source": [
    "text = \"undefine_attribute_methods now clears alias attribute methods\"\n",
    "encoded_text = tokenizer(text, truncation=True, padding=True, return_tensors=\"pt\")\n"
   ]
  },
  {
   "cell_type": "code",
   "execution_count": 47,
   "metadata": {},
   "outputs": [],
   "source": [
    "with torch.no_grad():\n",
    "    output = model(**encoded_text)\n",
    "    logits = output.logits\n",
    "    predicted_label_idx = torch.argmax(logits, dim=1).item()\n"
   ]
  },
  {
   "cell_type": "code",
   "execution_count": 49,
   "metadata": {},
   "outputs": [
    {
     "name": "stdout",
     "output_type": "stream",
     "text": [
      "The predicted label for the given text is: activerecord\n"
     ]
    }
   ],
   "source": [
    "predicted_label = [k for k, v in label_mapping.items() if v == predicted_label_idx][0]\n",
    "print(f\"The predicted label for the given text is: {predicted_label}\")\n"
   ]
  }
 ],
 "metadata": {
  "kernelspec": {
   "display_name": "Python 3",
   "language": "python",
   "name": "python3"
  },
  "language_info": {
   "codemirror_mode": {
    "name": "ipython",
    "version": 3
   },
   "file_extension": ".py",
   "mimetype": "text/x-python",
   "name": "python",
   "nbconvert_exporter": "python",
   "pygments_lexer": "ipython3",
   "version": "3.10.11"
  },
  "orig_nbformat": 4
 },
 "nbformat": 4,
 "nbformat_minor": 2
}
